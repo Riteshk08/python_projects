{
 "cells": [
  {
   "cell_type": "code",
   "execution_count": 6,
   "id": "152f61d6",
   "metadata": {},
   "outputs": [],
   "source": [
    "def vol(rad):\n",
    "    return (4/3)* (3.14) * (rad**3)"
   ]
  },
  {
   "cell_type": "code",
   "execution_count": 7,
   "id": "3ca4f291",
   "metadata": {},
   "outputs": [
    {
     "data": {
      "text/plain": [
       "33.49333333333333"
      ]
     },
     "execution_count": 7,
     "metadata": {},
     "output_type": "execute_result"
    }
   ],
   "source": [
    "vol(2)"
   ]
  },
  {
   "cell_type": "code",
   "execution_count": 8,
   "id": "c2851443",
   "metadata": {},
   "outputs": [
    {
     "data": {
      "text/plain": [
       "4186.666666666667"
      ]
     },
     "execution_count": 8,
     "metadata": {},
     "output_type": "execute_result"
    }
   ],
   "source": [
    "vol(10)"
   ]
  },
  {
   "cell_type": "code",
   "execution_count": 17,
   "id": "9eec9ce5",
   "metadata": {},
   "outputs": [],
   "source": [
    "def ran_check(num,low,high):\n",
    "    if num in range(low, high+1):\n",
    "        print(f'{num} is range of {low} and {high}')\n",
    "    else:\n",
    "        print('Not in range')"
   ]
  },
  {
   "cell_type": "code",
   "execution_count": 18,
   "id": "c4e4281c",
   "metadata": {},
   "outputs": [
    {
     "name": "stdout",
     "output_type": "stream",
     "text": [
      "5 is range of 2 and 9\n"
     ]
    }
   ],
   "source": [
    "ran_check(5,2,9)"
   ]
  },
  {
   "cell_type": "code",
   "execution_count": 19,
   "id": "076450d2",
   "metadata": {},
   "outputs": [
    {
     "name": "stdout",
     "output_type": "stream",
     "text": [
      "Not in range\n"
     ]
    }
   ],
   "source": [
    "ran_check(5,2,4)"
   ]
  },
  {
   "cell_type": "code",
   "execution_count": 33,
   "id": "4ee97e0f",
   "metadata": {},
   "outputs": [],
   "source": [
    "def up_low(s):\n",
    "    up = 0\n",
    "    low = 0\n",
    "    \n",
    "    for ch in s:\n",
    "        if ch.isupper():\n",
    "            up += 1\n",
    "        elif ch.islower():\n",
    "            low += 1    \n",
    "        else:\n",
    "            pass\n",
    "        \n",
    "    print(f'Original String : {s}')\n",
    "    print(f'Total uppercase : {up}') \n",
    "    print(f'Total lowercase: {low}')"
   ]
  },
  {
   "cell_type": "code",
   "execution_count": 34,
   "id": "d8c11408",
   "metadata": {},
   "outputs": [
    {
     "name": "stdout",
     "output_type": "stream",
     "text": [
      "Original String :  Hello Mr. Roger, how are you AAAAAAAAAAAAAAAA ajxbkabxja?\n",
      "Total uppercase : 19\n",
      "Total lowercase: 28\n"
     ]
    }
   ],
   "source": [
    "s = ' Hello Mr. Roger, how are you AAAAAAAAAAAAAAAA ajxbkabxja?'\n",
    "up_low(s)"
   ]
  },
  {
   "cell_type": "code",
   "execution_count": null,
   "id": "a3edfae0",
   "metadata": {},
   "outputs": [],
   "source": []
  }
 ],
 "metadata": {
  "kernelspec": {
   "display_name": "Python 3 (ipykernel)",
   "language": "python",
   "name": "python3"
  },
  "language_info": {
   "codemirror_mode": {
    "name": "ipython",
    "version": 3
   },
   "file_extension": ".py",
   "mimetype": "text/x-python",
   "name": "python",
   "nbconvert_exporter": "python",
   "pygments_lexer": "ipython3",
   "version": "3.9.13"
  }
 },
 "nbformat": 4,
 "nbformat_minor": 5
}
